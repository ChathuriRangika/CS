{
 "cells": [
  {
   "cell_type": "markdown",
   "id": "fbc2865e-4266-497d-8b9e-65d764b311f1",
   "metadata": {},
   "source": [
    "# Assignment-2"
   ]
  },
  {
   "cell_type": "markdown",
   "id": "f3f7a2a6-8feb-428f-8ab9-78a198dad7f8",
   "metadata": {},
   "source": [
    "## 2025-Feb-10"
   ]
  },
  {
   "cell_type": "markdown",
   "id": "7fafc0c0-4430-4d92-8c6d-3aa19e7b2c77",
   "metadata": {},
   "source": [
    "### **Chathuri Rangika**"
   ]
  },
  {
   "cell_type": "code",
   "execution_count": 6,
   "id": "3c7789a3-7f36-4721-8c3f-5945fc13c27c",
   "metadata": {},
   "outputs": [
    {
     "name": "stdout",
     "output_type": "stream",
     "text": [
      "The result of the calculation was: \n",
      "        149769\n"
     ]
    }
   ],
   "source": [
    "# Question 1\n",
    "\n",
    "varNum1 = 100\n",
    "varNum2 = 29\n",
    "sumVal = (varNum1 + varNum2) * 3 \n",
    "newValue = sumVal ** 2           \n",
    "print(\"The result of the calculation was: \\n\" + \" \" * 7 , newValue)"
   ]
  },
  {
   "cell_type": "code",
   "execution_count": 8,
   "id": "1716db6b-7dd5-44cb-b08a-96e8c21d3fc0",
   "metadata": {},
   "outputs": [
    {
     "name": "stdin",
     "output_type": "stream",
     "text": [
      "Enter your name:  John\n",
      "Enter your Age:  26\n",
      "Enter your Year of birth:  1995\n"
     ]
    },
    {
     "name": "stdout",
     "output_type": "stream",
     "text": [
      "Password :  95Joh676\n"
     ]
    }
   ],
   "source": [
    "# Question 2\n",
    "\n",
    "strName = str(input(\"Enter your name: \"))\n",
    "intAge = int(input(\"Enter your Age: \"))\n",
    "intYOB = int(input(\"Enter your Year of birth: \"))\n",
    "\n",
    "intYOB_extract = intYOB % 100  \n",
    "strName_extract = strName[:3]  \n",
    "intAge_power = intAge ** 2 \n",
    "\n",
    "varPassword = str(intYOB_extract) + strName_extract + str(intAge_power)\n",
    "print(\"Password : \", varPassword)"
   ]
  },
  {
   "cell_type": "code",
   "execution_count": 10,
   "id": "4293f59f-712b-4aca-ad8d-81d906a1dd80",
   "metadata": {},
   "outputs": [
    {
     "name": "stdin",
     "output_type": "stream",
     "text": [
      "Please enter the first number:  5\n",
      "Enter the second number:  6\n"
     ]
    },
    {
     "name": "stdout",
     "output_type": "stream",
     "text": [
      "One of the numbers is even.\n"
     ]
    }
   ],
   "source": [
    "# Question 3\n",
    "\n",
    "intNum1 = int(input(\"Please enter the first number: \"))\n",
    "intNum2 = int(input(\"Enter the second number: \"))\n",
    "\n",
    "if intNum1 % 2 == 0 and intNum2 % 2 == 0:\n",
    "    print(\"Both numbers are even.\")\n",
    "elif intNum1 % 2 == 0 or intNum2 % 2 == 0:\n",
    "    print(\"One of the numbers is even.\")\n",
    "else:\n",
    "    print(\"Both numbers are odd.\")"
   ]
  },
  {
   "cell_type": "code",
   "execution_count": 12,
   "id": "d2ae0fa7-e277-4225-aa81-481744777819",
   "metadata": {},
   "outputs": [
    {
     "name": "stdin",
     "output_type": "stream",
     "text": [
      "Give an Integer:  5\n"
     ]
    },
    {
     "name": "stdout",
     "output_type": "stream",
     "text": [
      "The sum was: 10\n"
     ]
    }
   ],
   "source": [
    "# Question 4   \n",
    "\n",
    "intNum = int(input(\"Give an Integer: \"))   \n",
    "\n",
    "tot_sum = 0\n",
    "for i in range(intNum):  # Iterate from 0 up to and including num\n",
    "    tot_sum += i\n",
    "\n",
    "print(f\"The sum was: {tot_sum}\")"
   ]
  },
  {
   "cell_type": "code",
   "execution_count": 14,
   "id": "c4211c9f-001b-4cef-bbc2-a2867ef4d67e",
   "metadata": {},
   "outputs": [
    {
     "name": "stdin",
     "output_type": "stream",
     "text": [
      "Player:  2\n"
     ]
    },
    {
     "name": "stdout",
     "output_type": "stream",
     "text": [
      "Try a greater number.\n"
     ]
    },
    {
     "name": "stdin",
     "output_type": "stream",
     "text": [
      "Player:  7\n"
     ]
    },
    {
     "name": "stdout",
     "output_type": "stream",
     "text": [
      "Try a greater number.\n"
     ]
    },
    {
     "name": "stdin",
     "output_type": "stream",
     "text": [
      "Player:  8\n"
     ]
    },
    {
     "name": "stdout",
     "output_type": "stream",
     "text": [
      "Try a greater number.\n"
     ]
    },
    {
     "name": "stdin",
     "output_type": "stream",
     "text": [
      "Player:  9\n"
     ]
    },
    {
     "name": "stdout",
     "output_type": "stream",
     "text": [
      "Try a greater number.\n"
     ]
    },
    {
     "name": "stdin",
     "output_type": "stream",
     "text": [
      "Player:  10\n"
     ]
    },
    {
     "name": "stdout",
     "output_type": "stream",
     "text": [
      "That's right! Number of tries: 5\n"
     ]
    }
   ],
   "source": [
    "# Question 5\n",
    "\n",
    "import random\n",
    "\n",
    "intnum_dealer = random.randint(0, 10)\n",
    "int_tries = 0\n",
    "intnum_player = 0\n",
    "\n",
    "while intnum_player != intnum_dealer:\n",
    "    intnum_player = int(input(\"Player: \"))\n",
    "    int_tries += 1\n",
    "\n",
    "    if intnum_player < 0 or intnum_player > 10:\n",
    "        print(\"Enter a number between 0 and 10.\")\n",
    "        continue  # Go back to the beginning of the loop\n",
    "\n",
    "    if intnum_player < intnum_dealer:\n",
    "        print(\"Try a greater number.\")\n",
    "    elif intnum_player > intnum_dealer:\n",
    "        print(\"Try a smaller number.\")\n",
    "\n",
    "print(f\"That's right! Number of tries: {int_tries}\")"
   ]
  },
  {
   "cell_type": "code",
   "execution_count": 5,
   "id": "60671a9a-b1ad-4bc6-b68f-280275b2d6d9",
   "metadata": {},
   "outputs": [
    {
     "name": "stdin",
     "output_type": "stream",
     "text": [
      "Player1:  5\n"
     ]
    },
    {
     "name": "stdout",
     "output_type": "stream",
     "text": [
      "Try a smaller number.\n"
     ]
    },
    {
     "name": "stdin",
     "output_type": "stream",
     "text": [
      "Player1:  2\n"
     ]
    },
    {
     "name": "stdout",
     "output_type": "stream",
     "text": [
      "Try a smaller number.\n"
     ]
    },
    {
     "name": "stdin",
     "output_type": "stream",
     "text": [
      "Player1:  1\n"
     ]
    },
    {
     "name": "stdout",
     "output_type": "stream",
     "text": [
      "That's right! Number of tries for Player1: 3\n",
      "\n"
     ]
    },
    {
     "name": "stdin",
     "output_type": "stream",
     "text": [
      "Player2:  2\n"
     ]
    },
    {
     "name": "stdout",
     "output_type": "stream",
     "text": [
      "Try a greater number.\n"
     ]
    },
    {
     "name": "stdin",
     "output_type": "stream",
     "text": [
      "Player2:  4\n"
     ]
    },
    {
     "name": "stdout",
     "output_type": "stream",
     "text": [
      "Try a greater number.\n"
     ]
    },
    {
     "name": "stdin",
     "output_type": "stream",
     "text": [
      "Player2:  7\n"
     ]
    },
    {
     "name": "stdout",
     "output_type": "stream",
     "text": [
      "Try a greater number.\n"
     ]
    },
    {
     "name": "stdin",
     "output_type": "stream",
     "text": [
      "Player2:  9\n"
     ]
    },
    {
     "name": "stdout",
     "output_type": "stream",
     "text": [
      "Try a greater number.\n"
     ]
    },
    {
     "name": "stdin",
     "output_type": "stream",
     "text": [
      "Player2:  10\n"
     ]
    },
    {
     "name": "stdout",
     "output_type": "stream",
     "text": [
      "That's right! Number of tries for Player2: 5\n",
      "\n",
      "Winner is Player1!\n"
     ]
    }
   ],
   "source": [
    "# Question 5 extended version for two players\n",
    "\n",
    "import random\n",
    "\n",
    "def guess_game(player_name):\n",
    "    intnum_dealer = random.randint(0, 10)\n",
    "    int_tries = 0\n",
    "    intnum_player = 0  \n",
    "\n",
    "\n",
    "    while intnum_player != intnum_dealer:\n",
    "\n",
    "            intnum_player = int(input(f\"{player_name}: \"))\n",
    "            int_tries += 1\n",
    "\n",
    "            if intnum_player < 0 or intnum_player > 10:\n",
    "                print(\"Enter a number between 0 and 10.\")\n",
    "                continue\n",
    "\n",
    "            if intnum_player < intnum_dealer:\n",
    "                print(\"Try a greater number.\")\n",
    "            elif intnum_player > intnum_dealer:\n",
    "                print(\"Try a smaller number.\")\n",
    "\n",
    "\n",
    "    print(f\"That's right! Number of tries for {player_name}: {int_tries}\\n\")\n",
    "    return int_tries\n",
    "\n",
    "# Player 1's turn\n",
    "int_tries_player1 = guess_game(\"Player1\")\n",
    "\n",
    "# Player 2's turn\n",
    "int_tries_player2 = guess_game(\"Player2\")\n",
    "\n",
    "# Determine the winner\n",
    "if int_tries_player1 < int_tries_player2:\n",
    "    print(\"Winner is Player1!\")\n",
    "elif int_tries_player2 < int_tries_player1:\n",
    "    print(\"Winner is Player2!\")\n",
    "else:\n",
    "    print(\"It's a draw!\")"
   ]
  },
  {
   "cell_type": "code",
   "execution_count": null,
   "id": "4b6c2ba7-274a-4dc3-95fe-396aee12a786",
   "metadata": {},
   "outputs": [],
   "source": []
  }
 ],
 "metadata": {
  "kernelspec": {
   "display_name": "Python [conda env:base] *",
   "language": "python",
   "name": "conda-base-py"
  },
  "language_info": {
   "codemirror_mode": {
    "name": "ipython",
    "version": 3
   },
   "file_extension": ".py",
   "mimetype": "text/x-python",
   "name": "python",
   "nbconvert_exporter": "python",
   "pygments_lexer": "ipython3",
   "version": "3.12.7"
  }
 },
 "nbformat": 4,
 "nbformat_minor": 5
}
